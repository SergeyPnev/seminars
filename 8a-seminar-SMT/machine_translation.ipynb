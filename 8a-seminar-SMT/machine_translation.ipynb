{
 "cells": [
  {
   "cell_type": "markdown",
   "metadata": {},
   "source": [
    "# Statistical Machine Translation"
   ]
  },
  {
   "cell_type": "code",
   "execution_count": 1,
   "metadata": {},
   "outputs": [],
   "source": [
    "from smt.ibmmodel.ibmmodel1 import train"
   ]
  },
  {
   "cell_type": "code",
   "execution_count": null,
   "metadata": {},
   "outputs": [],
   "source": [
    "sentences = [line.strip().split('|||') for line in fd.readlines()]\n",
    "t = train(sentences, loop_count=3)\n",
    "for (e, f), val in t.items():\n",
    "    print(\"{} {}\\t{}\".format(e, f, val))"
   ]
  },
  {
   "cell_type": "code",
   "execution_count": 3,
   "metadata": {},
   "outputs": [],
   "source": [
    "    sent_pairs = [(\"the house\", \"das Haus\"),\n",
    "                  (\"the book\", \"das Buch\"),\n",
    "                  (\"a book\", \"ein Buch\"),\n",
    "                  ]"
   ]
  },
  {
   "cell_type": "code",
   "execution_count": 6,
   "metadata": {},
   "outputs": [
    {
     "data": {
      "text/plain": [
       "defaultdict(<function smt.ibmmodel.ibmmodel1._constant_factory.<locals>.<lambda>()>,\n",
       "            {('the', 'das'): Decimal('1'),\n",
       "             ('the', 'Haus'): Decimal('0.001690039679655961751022473679'),\n",
       "             ('house', 'das'): Decimal('4.609745521815247181063352303E-89'),\n",
       "             ('house', 'Haus'): Decimal('0.9983099603203440382489775265'),\n",
       "             ('the', 'Buch'): Decimal('2.815024286894250589491379615E-90'),\n",
       "             ('book', 'das'): Decimal('2.815024286894250589491379615E-90'),\n",
       "             ('book', 'Buch'): Decimal('1'),\n",
       "             ('a', 'ein'): Decimal('0.9983099603203440382489775265'),\n",
       "             ('a', 'Buch'): Decimal('4.609745521815247181063352311E-89'),\n",
       "             ('book', 'ein'): Decimal('0.001690039679655961751022473679')})"
      ]
     },
     "execution_count": 6,
     "metadata": {},
     "output_type": "execute_result"
    }
   ],
   "source": [
    "train(sent_pairs, loop_count=300)"
   ]
  },
  {
   "cell_type": "code",
   "execution_count": 6,
   "metadata": {},
   "outputs": [],
   "source": [
    "from smt.ibmmodel.ibmmodel2 import train as ibm2_train\n",
    "from smt.ibmmodel.ibmmodel2 import show_matrix"
   ]
  },
  {
   "cell_type": "code",
   "execution_count": 5,
   "metadata": {},
   "outputs": [
    {
     "name": "stdout",
     "output_type": "stream",
     "text": [
      "the das\t0.6363636363636364\n",
      "the Haus\t0.42857142857142855\n",
      "house das\t0.18181818181818182\n",
      "house Haus\t0.5714285714285714\n",
      "the Buch\t0.18181818181818182\n",
      "book das\t0.18181818181818182\n",
      "book Buch\t0.6363636363636364\n",
      "a ein\t0.5714285714285714\n",
      "a Buch\t0.18181818181818182\n",
      "book ein\t0.42857142857142855\n",
      "1 1 2 2\t0.6111111111111112\n",
      "2 1 2 2\t0.3888888888888889\n",
      "1 2 2 2\t0.3888888888888889\n",
      "2 2 2 2\t0.6111111111111112\n"
     ]
    }
   ],
   "source": [
    "t, a = ibm2_train(sent_pairs, loop_count=1)"
   ]
  },
  {
   "cell_type": "code",
   "execution_count": 7,
   "metadata": {},
   "outputs": [],
   "source": [
    "es, fs = \"the book\".split(), \"das Buch\".split()"
   ]
  },
  {
   "cell_type": "code",
   "execution_count": 8,
   "metadata": {},
   "outputs": [
    {
     "data": {
      "text/plain": [
       "'     das Buch\\nthe  |x| |\\nbook | |x|\\n'"
      ]
     },
     "execution_count": 8,
     "metadata": {},
     "output_type": "execute_result"
    }
   ],
   "source": [
    "show_matrix(es, fs, t, a)"
   ]
  },
  {
   "cell_type": "code",
   "execution_count": 30,
   "metadata": {},
   "outputs": [],
   "source": [
    "sentences = [(\"僕 は 男 です\", \"I am a man\"),\n",
    "                     (\"私 は 女 です\", \"I am a girl\"),\n",
    "                     (\"私 は 先生 です\", \"I am a teacher\"),\n",
    "                     (\"彼女 は 先生 です\", \"She is a teacher\"),\n",
    "                     (\"彼 は 先生 です\", \"He is a teacher\"),\n",
    "                     ]"
   ]
  },
  {
   "cell_type": "code",
   "execution_count": 10,
   "metadata": {},
   "outputs": [
    {
     "name": "stdout",
     "output_type": "stream",
     "text": [
      "僕 I\t0.33333333333333326\n",
      "僕 am\t2.7953990516595328e-182\n",
      "僕 a\t0.0\n",
      "僕 man\t4.2427149655047526e-16\n",
      "は I\t2.538173158018456e-144\n",
      "は am\t0.5\n",
      "は a\t0.5\n",
      "は man\t0.0\n",
      "男 I\t0.0\n",
      "男 am\t0.0\n",
      "男 a\t0.0\n",
      "男 man\t0.9999999999999996\n",
      "です I\t2.538173158018456e-144\n",
      "です am\t0.5\n",
      "です a\t0.5\n",
      "です man\t0.0\n",
      "私 I\t0.6666666666666667\n",
      "私 am\t5.5907981033190676e-182\n",
      "私 a\t0.0\n",
      "私 girl\t6.236730531464904e-20\n",
      "は girl\t0.0\n",
      "女 I\t0.0\n",
      "女 am\t0.0\n",
      "女 a\t0.0\n",
      "女 girl\t1.0\n",
      "です girl\t0.0\n",
      "私 teacher\t3.729343612242216e-27\n",
      "は teacher\t0.0\n",
      "先生 I\t0.0\n",
      "先生 am\t0.0\n",
      "先生 a\t0.0\n",
      "先生 teacher\t1.0\n",
      "です teacher\t0.0\n",
      "彼女 She\t1.0\n",
      "彼女 is\t2.032497523355089e-186\n",
      "彼女 a\t0.0\n",
      "彼女 teacher\t3.524703786008006e-29\n",
      "は She\t9.987490445724654e-146\n",
      "は is\t0.5\n",
      "先生 She\t0.0\n",
      "先生 is\t0.0\n",
      "です She\t9.987490445724654e-146\n",
      "です is\t0.5\n",
      "彼 He\t1.0\n",
      "彼 is\t2.032497523355089e-186\n",
      "彼 a\t0.0\n",
      "彼 teacher\t3.524703786008006e-29\n",
      "は He\t9.987490445724654e-146\n",
      "先生 He\t0.0\n",
      "です He\t9.987490445724654e-146\n",
      "1 1 4 4\t0.9999999999999999\n",
      "2 1 4 4\t2.726758676922308e-182\n",
      "3 1 4 4\t0.0\n",
      "4 1 4 4\t8.486677277343791e-17\n",
      "1 2 4 4\t1.562853856593972e-144\n",
      "2 2 4 4\t0.2709482532495859\n",
      "3 2 4 4\t0.7290517467504142\n",
      "4 2 4 4\t0.0\n",
      "1 3 4 4\t0.0\n",
      "2 3 4 4\t0.0\n",
      "3 3 4 4\t0.0\n",
      "4 3 4 4\t1.0\n",
      "1 4 4 4\t1.562853856593972e-144\n",
      "2 4 4 4\t0.2709482532495859\n",
      "3 4 4 4\t0.7290517467504142\n",
      "4 4 4 4\t0.0\n"
     ]
    }
   ],
   "source": [
    "t, a= ibm2_train(sentences, loop_count=10)"
   ]
  },
  {
   "cell_type": "code",
   "execution_count": 12,
   "metadata": {},
   "outputs": [],
   "source": [
    "es = \"私 は 先生 です\".split()\n",
    "fs = \"I am a teacher\".split()"
   ]
  },
  {
   "cell_type": "code",
   "execution_count": 16,
   "metadata": {},
   "outputs": [],
   "source": [
    "def print_lines(line):\n",
    "    lines = line.split(\"\\n\")\n",
    "    for l in lines:\n",
    "        print(l)"
   ]
  },
  {
   "cell_type": "code",
   "execution_count": 17,
   "metadata": {},
   "outputs": [
    {
     "name": "stdout",
     "output_type": "stream",
     "text": [
      "     I am a teacher\n",
      "私    |x| | | |\n",
      "は    | | |x| |\n",
      "先生   | | | |x|\n",
      "です   | | |x| |\n",
      "\n"
     ]
    }
   ],
   "source": [
    "print_lines(show_matrix(es, fs, t, a))"
   ]
  },
  {
   "cell_type": "code",
   "execution_count": 19,
   "metadata": {},
   "outputs": [],
   "source": [
    "from smt.phrase.word_alignment import _alignment"
   ]
  },
  {
   "cell_type": "code",
   "execution_count": 21,
   "metadata": {},
   "outputs": [],
   "source": [
    "es = \"michael assumes that he will stay in the house\".split()\n",
    "fs = \"michael geht davon aus , dass er im haus bleibt\".split()\n",
    "e2f = [(1, 1), (2, 2), (2, 3), (2, 4), (3, 6),\n",
    "       (4, 7), (7, 8), (9, 9), (6, 10)]\n",
    "f2e = [(1, 1), (2, 2), (3, 6), (4, 7), (7, 8),\n",
    "       (8, 8), (9, 9), (5, 10), (6, 10)]"
   ]
  },
  {
   "cell_type": "code",
   "execution_count": 22,
   "metadata": {},
   "outputs": [],
   "source": [
    "from smt.utils.utility import matrix\n"
   ]
  },
  {
   "cell_type": "code",
   "execution_count": 23,
   "metadata": {},
   "outputs": [
    {
     "name": "stdout",
     "output_type": "stream",
     "text": [
      "     michael geht davon aus , dass er im haus bleibt\n",
      "mich |x| | | | | | | | | |\n",
      "assu | |x|x|x| | | | | | |\n",
      "that | | | | | |x| | | | |\n",
      "he   | | | | | | |x| | | |\n",
      "will | | | | | | | | | | |\n",
      "stay | | | | | | | | | |x|\n",
      "in   | | | | | | | |x| | |\n",
      "the  | | | | | | | | | | |\n",
      "hous | | | | | | | | |x| |\n",
      "\n"
     ]
    }
   ],
   "source": [
    "print(matrix(len(es), len(fs), e2f, es, fs))\n"
   ]
  },
  {
   "cell_type": "code",
   "execution_count": 24,
   "metadata": {},
   "outputs": [
    {
     "name": "stdout",
     "output_type": "stream",
     "text": [
      "     michael geht davon aus , dass er im haus bleibt\n",
      "mich |x| | | | | | | | | |\n",
      "assu | |x| | | | | | | | |\n",
      "that | | | | | |x| | | | |\n",
      "he   | | | | | | |x| | | |\n",
      "will | | | | | | | | | |x|\n",
      "stay | | | | | | | | | |x|\n",
      "in   | | | | | | | |x| | |\n",
      "the  | | | | | | | |x| | |\n",
      "hous | | | | | | | | |x| |\n",
      "\n"
     ]
    }
   ],
   "source": [
    "print(matrix(len(es), len(fs), f2e, es, fs))\n"
   ]
  },
  {
   "cell_type": "code",
   "execution_count": 25,
   "metadata": {},
   "outputs": [
    {
     "name": "stdout",
     "output_type": "stream",
     "text": [
      "     michael geht davon aus , dass er im haus bleibt\n",
      "mich |x| | | | | | | | | |\n",
      "assu | |x|x|x| | | | | | |\n",
      "that | | | | | |x| | | | |\n",
      "he   | | | | | | |x| | | |\n",
      "will | | | | | | | | | |x|\n",
      "stay | | | | | | | | | |x|\n",
      "in   | | | | | | | |x| | |\n",
      "the  | | | | | | | |x| | |\n",
      "hous | | | | | | | | |x| |\n",
      "\n"
     ]
    }
   ],
   "source": [
    "ali = _alignment(es, fs, e2f, f2e)\n",
    "print(matrix(len(es), len(fs), ali, es, fs))"
   ]
  },
  {
   "cell_type": "code",
   "execution_count": 26,
   "metadata": {},
   "outputs": [],
   "source": [
    "from smt.utils.utility import mkcorpus"
   ]
  },
  {
   "cell_type": "code",
   "execution_count": 31,
   "metadata": {},
   "outputs": [],
   "source": [
    "corpus = mkcorpus(sentences)\n",
    "es = \"私 は 先生 です\".split()\n",
    "fs = \"I am a teacher\".split()  "
   ]
  },
  {
   "cell_type": "code",
   "execution_count": 35,
   "metadata": {},
   "outputs": [],
   "source": [
    "from smt.phrase.word_alignment import symmetrization\n",
    "from pprint import pprint\n"
   ]
  },
  {
   "cell_type": "code",
   "execution_count": 36,
   "metadata": {},
   "outputs": [
    {
     "name": "stdout",
     "output_type": "stream",
     "text": [
      "僕 I\t0.33333333333333326\n",
      "僕 am\t2.7953990516595328e-182\n",
      "僕 a\t0.0\n",
      "僕 man\t4.2427149655047526e-16\n",
      "は I\t2.538173158018456e-144\n",
      "は am\t0.5\n",
      "は a\t0.5\n",
      "は man\t0.0\n",
      "男 I\t0.0\n",
      "男 am\t0.0\n",
      "男 a\t0.0\n",
      "男 man\t0.9999999999999996\n",
      "です I\t2.538173158018456e-144\n",
      "です am\t0.5\n",
      "です a\t0.5\n",
      "です man\t0.0\n",
      "私 I\t0.6666666666666667\n",
      "私 am\t5.5907981033190676e-182\n",
      "私 a\t0.0\n",
      "私 girl\t6.236730531464904e-20\n",
      "は girl\t0.0\n",
      "女 I\t0.0\n",
      "女 am\t0.0\n",
      "女 a\t0.0\n",
      "女 girl\t1.0\n",
      "です girl\t0.0\n",
      "私 teacher\t3.729343612242216e-27\n",
      "は teacher\t0.0\n",
      "先生 I\t0.0\n",
      "先生 am\t0.0\n",
      "先生 a\t0.0\n",
      "先生 teacher\t1.0\n",
      "です teacher\t0.0\n",
      "彼女 She\t1.0\n",
      "彼女 is\t2.032497523355089e-186\n",
      "彼女 a\t0.0\n",
      "彼女 teacher\t3.524703786008006e-29\n",
      "は She\t9.987490445724654e-146\n",
      "は is\t0.5\n",
      "先生 She\t0.0\n",
      "先生 is\t0.0\n",
      "です She\t9.987490445724654e-146\n",
      "です is\t0.5\n",
      "彼 He\t1.0\n",
      "彼 is\t2.032497523355089e-186\n",
      "彼 a\t0.0\n",
      "彼 teacher\t3.524703786008006e-29\n",
      "は He\t9.987490445724654e-146\n",
      "先生 He\t0.0\n",
      "です He\t9.987490445724654e-146\n",
      "1 1 4 4\t0.9999999999999999\n",
      "2 1 4 4\t2.726758676922308e-182\n",
      "3 1 4 4\t0.0\n",
      "4 1 4 4\t8.486677277343791e-17\n",
      "1 2 4 4\t1.562853856593972e-144\n",
      "2 2 4 4\t0.2709482532495859\n",
      "3 2 4 4\t0.7290517467504142\n",
      "4 2 4 4\t0.0\n",
      "1 3 4 4\t0.0\n",
      "2 3 4 4\t0.0\n",
      "3 3 4 4\t0.0\n",
      "4 3 4 4\t1.0\n",
      "1 4 4 4\t1.562853856593972e-144\n",
      "2 4 4 4\t0.2709482532495859\n",
      "3 4 4 4\t0.7290517467504142\n",
      "4 4 4 4\t0.0\n",
      "I 僕\t0.5\n",
      "I は\t5e-324\n",
      "I 男\t0.0\n",
      "I です\t5e-324\n",
      "am 僕\t0.5\n",
      "am は\t2.186653463880263e-268\n",
      "am 男\t1.1764095858431331e-142\n",
      "am です\t2.186653463880263e-268\n",
      "a 僕\t0.0\n",
      "a は\t1.0\n",
      "a 男\t0.0\n",
      "a です\t1.0\n",
      "man 僕\t0.0\n",
      "man は\t0.0\n",
      "man 男\t1.0\n",
      "man です\t0.0\n",
      "I 私\t0.5\n",
      "I 女\t0.0\n",
      "am 私\t0.5\n",
      "am 女\t3.0063366426690426e-143\n",
      "a 私\t0.0\n",
      "a 女\t0.0\n",
      "girl 私\t0.0\n",
      "girl は\t0.0\n",
      "girl 女\t1.0\n",
      "girl です\t0.0\n",
      "I 先生\t0.0\n",
      "am 先生\t4.077397375773147e-151\n",
      "a 先生\t0.0\n",
      "teacher 私\t0.0\n",
      "teacher は\t0.0\n",
      "teacher 先生\t1.0\n",
      "teacher です\t0.0\n",
      "She 彼女\t0.5\n",
      "She は\t0.0\n",
      "She 先生\t0.0\n",
      "She です\t0.0\n",
      "is 彼女\t0.5\n",
      "is は\t9.711924461218662e-271\n",
      "is 先生\t2.6826433711997755e-144\n",
      "is です\t9.711924461218662e-271\n",
      "a 彼女\t0.0\n",
      "teacher 彼女\t0.0\n",
      "He 彼\t0.5\n",
      "He は\t0.0\n",
      "He 先生\t0.0\n",
      "He です\t0.0\n",
      "is 彼\t0.5\n",
      "a 彼\t0.0\n",
      "teacher 彼\t0.0\n",
      "1 1 4 4\t1.0\n",
      "2 1 4 4\t0.0\n",
      "3 1 4 4\t0.0\n",
      "4 1 4 4\t0.0\n",
      "1 2 4 4\t1.0\n",
      "2 2 4 4\t1.0981826941707409e-268\n",
      "3 2 4 4\t3.1150451269564456e-143\n",
      "4 2 4 4\t1.0981826941707409e-268\n",
      "1 3 4 4\t0.0\n",
      "2 3 4 4\t0.5\n",
      "3 3 4 4\t0.0\n",
      "4 3 4 4\t0.5\n",
      "1 4 4 4\t0.0\n",
      "2 4 4 4\t0.0\n",
      "3 4 4 4\t1.0\n",
      "4 4 4 4\t0.0\n",
      "{(1, 2), (2, 3), (4, 3), (3, 4), (1, 1)}\n",
      "     I am a teacher\n",
      "私    |x|x| | |\n",
      "は    | | |x| |\n",
      "先生   | | | |x|\n",
      "です   | | |x| |\n",
      "\n"
     ]
    }
   ],
   "source": [
    "syn = symmetrization(es, fs, corpus)\n",
    "pprint(syn)\n",
    "print(matrix(len(es), len(fs), syn, es, fs))"
   ]
  },
  {
   "cell_type": "code",
   "execution_count": null,
   "metadata": {},
   "outputs": [],
   "source": []
  }
 ],
 "metadata": {
  "kernelspec": {
   "display_name": "Python 3",
   "language": "python",
   "name": "python3"
  },
  "language_info": {
   "codemirror_mode": {
    "name": "ipython",
    "version": 3
   },
   "file_extension": ".py",
   "mimetype": "text/x-python",
   "name": "python",
   "nbconvert_exporter": "python",
   "pygments_lexer": "ipython3",
   "version": "3.7.4"
  }
 },
 "nbformat": 4,
 "nbformat_minor": 4
}
